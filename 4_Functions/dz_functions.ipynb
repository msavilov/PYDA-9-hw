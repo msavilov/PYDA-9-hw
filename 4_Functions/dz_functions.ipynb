{
 "cells": [
  {
   "cell_type": "markdown",
   "metadata": {},
   "source": [
    "Вы работаете секретарем и вам постоянно приходят различные документы. Вы должны быть очень внимательны, чтобы не потерять ни один документ. Каталог документов хранится в следующем виде:"
   ]
  },
  {
   "cell_type": "code",
   "execution_count": 19,
   "metadata": {},
   "outputs": [],
   "source": [
    "documents = [\n",
    "    {'type': 'passport', 'number': '2207 876234', 'name': 'Василий Гупкин'},\n",
    "    {'type': 'invoice', 'number': '11-2', 'name': 'Геннадий Покемонов'},\n",
    "    {'type': 'insurance', 'number': '10006', 'name': 'Аристарх Павлов'}\n",
    "]"
   ]
  },
  {
   "cell_type": "markdown",
   "metadata": {},
   "source": [
    "Перечень полок, на которых находятся документы хранится в следующем виде:"
   ]
  },
  {
   "cell_type": "code",
   "execution_count": 20,
   "metadata": {},
   "outputs": [],
   "source": [
    "directories = {\n",
    "    '1': ['2207 876234', '11-2'],\n",
    "    '2': ['10006'],\n",
    "    '3': []\n",
    "}"
   ]
  },
  {
   "cell_type": "markdown",
   "metadata": {},
   "source": [
    "Необходимо реализовать пользовательские команды (внимание! это не название функций, которые должны быть выразительными, а команды, которые вводит пользователь, чтобы получить необходимый результат):\n",
    "  \n",
    "- p – people – команда, которая спросит номер документа и выведет имя человека, которому он принадлежит;  \n",
    "- s – shelf – команда, которая спросит номер документа и выведет номер полки, на которой он находится  \n",
    "*Правильно обработайте ситуации, когда пользователь будет вводить несуществующий документ*.\n",
    "- l – list – команда, которая выведет список всех документов в формате   \n",
    "**passport \"2207 876234\" \"Василий Гупкин\"**  \n",
    "- as – add shelf – команда, которая спросит номер новой полки и добавит ее в перечень. *Предусмотрите случай, когда пользователь добавляет полку, которая уже существует*.\n",
    "- d – delete – команда, которая спросит номер документа и удалит его из каталога и из перечня полок. *Предусмотрите сценарий, когда пользователь вводит несуществующий документ*;  \n",
    "- m – move – команда, которая спросит номер документа и целевую полку и переместит его с текущей полки на целевую. *Корректно обработайте кейсы, когда пользователь пытается переместить несуществующий документ или переместить документ на несуществующую полку*;  \n",
    "- a – add – команда, которая добавит новый документ в каталог и в перечень полок, спросив его номер, тип, имя владельца и номер полки, на котором он будет храниться. *Корректно обработайте ситуацию, когда пользователь будет пытаться добавить документ на несуществующую полку*."
   ]
  },
  {
   "cell_type": "code",
   "execution_count": 21,
   "metadata": {},
   "outputs": [],
   "source": [
    "#функция, проверки номера документа\n",
    "def check_doc_num(doc_number):\n",
    "    flag = True\n",
    "    for value in documents:\n",
    "        if value['number'] == doc_number:\n",
    "            flag = False\n",
    "            break\n",
    "    return flag\n",
    "\n",
    "#функция, проверки номера полки\n",
    "def check_shelf_num(shelf_number):\n",
    "    flag = True\n",
    "    for shelf_num in directories.keys():\n",
    "        if shelf_number == shelf_num:\n",
    "            flag = False\n",
    "            break\n",
    "    return flag\n",
    "\n",
    "#функция, которая выводит имя человека по номеру документа, которому он принадлежит\n",
    "def get_name(doc_number):\n",
    "    for value in documents:\n",
    "        if value['number'] == doc_number:\n",
    "            print(f'Владельцем документа №{doc_number} является {value[\"name\"]}')\n",
    "            break\n",
    "\n",
    "#функция, которая выводит номер полки по номеру документа, на которой он находится\n",
    "def get_shelf_doc(doc_number):\n",
    "    for key, value in directories.items():\n",
    "        if doc_number in value:\n",
    "            print(f'Документ {doc_number} находится на полке №{key}')\n",
    "            break\n",
    "\n",
    "#функция, которая выводит список всех документов в формате\n",
    "def get_doc_list():\n",
    "    for value in documents:\n",
    "        print(f'{value[\"type\"]} \"{value[\"number\"]}\" \"{value[\"name\"]}\"')\n",
    "\n",
    "#функция, которая добавляет в перечень новую полку с введённым номером\n",
    "def add_shelf(shelf_number):\n",
    "    directories[shelf_number] = []\n",
    "    print(f'Полка с номером {shelf_number} создана')\n",
    "    \n",
    "#функция, которая удаляет документ из каталога и из перечня полок по его номеру.\n",
    "def del_doc(doc_number):\n",
    "    i = 0\n",
    "    for value in documents:\n",
    "        if value['number'] == doc_number:\n",
    "            del(documents[i])\n",
    "            for shelf_value in directories.values():\n",
    "                if doc_number in shelf_value:\n",
    "                    shelf_value.remove(doc_number)\n",
    "                    print(f'Документ {doc_number} удалён')\n",
    "            break\n",
    "        i += 1\n",
    "        \n",
    "#функция, которая перемещает документ с текущей полки на указанную.\n",
    "def move_doc(doc_number, shelf_number): \n",
    "    for key, value in directories.items():\n",
    "        if doc_number in value:\n",
    "            directories[shelf_number].append(doc_number)\n",
    "            directories[key].remove(doc_number)\n",
    "            print(f'Документ {doc_number} перемещён с полки {int(key)} на полку {shelf_number}')\n",
    "            break\n",
    "        \n",
    "#функция, которая создаёт новый документ и помещает его на полку.\n",
    "def add_doc(doc_number, doc_type, doc_name, shelf_number):\n",
    "    documents.append({'type': doc_type, 'number': doc_number, 'name': doc_name})\n",
    "    directories[shelf_number].append(doc_number)"
   ]
  },
  {
   "cell_type": "code",
   "execution_count": 22,
   "metadata": {},
   "outputs": [],
   "source": [
    "def main():\n",
    "    while True:\n",
    "        user_input = input('Введите код команды: ')\n",
    "        if user_input == 'p' or user_input == 'people':\n",
    "            doc_number = input('Введите номер документа: ')\n",
    "            while check_doc_num(doc_number) == True:\n",
    "                print('Ошибка: документ не найден\\nВведите корректный номер документа!')\n",
    "                doc_number = input('Введите номер документа: ')\n",
    "            get_name(doc_number)\n",
    "        elif user_input == 's' or user_input == 'shelf':\n",
    "            doc_number = input('Введите номер документа: ')\n",
    "            while check_doc_num(doc_number) == True:\n",
    "                print('Ошибка: документ не найден\\nВведите корректный номер документа!')\n",
    "                doc_number = input('Введите номер документа: ')\n",
    "            get_shelf_doc(doc_number)\n",
    "        elif user_input == 'l' or user_input == 'list':\n",
    "            get_doc_list()\n",
    "        elif user_input == 'as' or user_input == 'add shelf':\n",
    "            shelf_number = input('Введите номер новой полки: ')\n",
    "            while check_shelf_num(shelf_number) == False:\n",
    "                print('Ошибка: Полка с таким названием уже существует\\nВведите другой номер полки!')\n",
    "                shelf_number = input('Введите номер новой полки: ')\n",
    "            add_shelf(shelf_number)\n",
    "        elif user_input == 'd' or user_input == 'delete':\n",
    "            doc_number = input('Введите номер документа: ')\n",
    "            while check_doc_num(doc_number) == True:\n",
    "                print('Ошибка: документ не найден\\nВведите корректный номер документа, который Вы хотите удалить!')\n",
    "                doc_number = input('Введите номер документа: ')\n",
    "            del_doc(doc_number)\n",
    "        elif user_input == 'm' or user_input == 'move':\n",
    "            doc_number = input('Введите номер документа: ')\n",
    "            while check_doc_num(doc_number) == True:\n",
    "                print('Ошибка: документ не найден\\nВведите корректный номер документа!')\n",
    "                doc_number = input('Введите номер документа: ')\n",
    "            shelf_number = input('Введите номер новой полки для документа: ')\n",
    "            while check_shelf_num(shelf_number) == True:\n",
    "                print('Ошибка: Полки с таким названием не существует\\nВведите другой номер полки!')\n",
    "                shelf_number = input('Введите номер новой полки: ')\n",
    "            move_doc(doc_number, shelf_number)\n",
    "        elif user_input == 'a' or user_input == 'add':\n",
    "            doc_number = input('Введите номер документа: ')\n",
    "            doc_type = input('Введите тип документа: ')\n",
    "            doc_name = input('Введите имя и фамилию владельца: ')\n",
    "            shelf_number = input('Введите номер полки: ')\n",
    "            while check_shelf_num(shelf_number) == True:\n",
    "                print('Ошибка: Полки с таким названием не существует\\nВведите другой номер полки!')\n",
    "                shelf_number = input('Введите номер новой полки: ')\n",
    "            add_doc(doc_number, doc_type, doc_name, shelf_number)\n",
    "        elif user_input == 'q':\n",
    "            print('До свидания')\n",
    "            break\n",
    "        else:\n",
    "            print('Команда не принята. Введите другую команду')"
   ]
  },
  {
   "cell_type": "code",
   "execution_count": 23,
   "metadata": {
    "scrolled": true
   },
   "outputs": [
    {
     "name": "stdout",
     "output_type": "stream",
     "text": [
      "Введите код команды: 123\n",
      "Команда не принята. Введите другую команду\n",
      "Введите код команды: p\n",
      "Введите номер документа: 11-3\n",
      "Ошибка: документ не найден\n",
      "Введите корректный номер документа!\n",
      "Введите номер документа: 11-2\n",
      "Владельцем документа №11-2 является Геннадий Покемонов\n",
      "Введите код команды: s\n",
      "Введите номер документа: 11-2\n",
      "Документ 11-2 находится на полке №1\n",
      "Введите код команды: as\n",
      "Введите номер новой полки: 2\n",
      "Ошибка: Полка с таким названием уже существует\n",
      "Введите другой номер полки!\n",
      "Введите номер новой полки: 4\n",
      "Полка с номером 4 создана\n",
      "Введите код команды: d\n",
      "Введите номер документа: 11-2\n",
      "Документ 11-2 удалён\n",
      "Введите код команды: l\n",
      "passport \"2207 876234\" \"Василий Гупкин\"\n",
      "insurance \"10006\" \"Аристарх Павлов\"\n",
      "Введите код команды: m\n",
      "Введите номер документа: 10006\n",
      "Введите номер новой полки для документа: 3\n",
      "Документ 10006 перемещён с полки 2 на полку 3\n",
      "Введите код команды: a\n",
      "Введите номер документа: invoice\n",
      "Введите тип документа: 11-2\n",
      "Введите имя и фамилию владельца: Геннадий Покемонов\n",
      "Введите номер полки: 6\n",
      "Ошибка: Полки с таким названием не существует\n",
      "Введите другой номер полки!\n",
      "Введите номер новой полки: 2\n",
      "Введите код команды: q\n",
      "До свидания\n"
     ]
    }
   ],
   "source": [
    "main()"
   ]
  },
  {
   "cell_type": "code",
   "execution_count": 24,
   "metadata": {},
   "outputs": [
    {
     "name": "stdout",
     "output_type": "stream",
     "text": [
      "[{'type': 'passport', 'number': '2207 876234', 'name': 'Василий Гупкин'}, {'type': 'insurance', 'number': '10006', 'name': 'Аристарх Павлов'}, {'type': '11-2', 'number': 'invoice', 'name': 'Геннадий Покемонов'}]\n",
      "{'1': ['2207 876234'], '2': ['invoice'], '3': ['10006'], '4': []}\n"
     ]
    }
   ],
   "source": [
    "print(documents)\n",
    "print(directories)"
   ]
  }
 ],
 "metadata": {
  "kernelspec": {
   "display_name": "Python 3",
   "language": "python",
   "name": "python3"
  },
  "language_info": {
   "codemirror_mode": {
    "name": "ipython",
    "version": 3
   },
   "file_extension": ".py",
   "mimetype": "text/x-python",
   "name": "python",
   "nbconvert_exporter": "python",
   "pygments_lexer": "ipython3",
   "version": "3.7.6"
  }
 },
 "nbformat": 4,
 "nbformat_minor": 2
}
