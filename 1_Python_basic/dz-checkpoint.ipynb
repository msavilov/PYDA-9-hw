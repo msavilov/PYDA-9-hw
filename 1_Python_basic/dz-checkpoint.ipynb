{
 "cells": [
  {
   "cell_type": "markdown",
   "metadata": {},
   "source": [
    "Задание 1. Даны 2 строки: long_phrase и short_phrase. Напишите код, который проверяет действительно ли длинная фраза long_phrase длиннее короткой short_phrase. И выводит True или False в зависимости от результата сравнения."
   ]
  },
  {
   "cell_type": "code",
   "execution_count": 1,
   "metadata": {},
   "outputs": [
    {
     "data": {
      "text/plain": [
       "True"
      ]
     },
     "execution_count": 1,
     "metadata": {},
     "output_type": "execute_result"
    }
   ],
   "source": [
    "long_phrase = 'Насколько проще было бы писать программы, если бы не заказчики'\n",
    "short_phrase = '640Кб должно хватить для любых задач. Билл Гейтс (по легенде)'\n",
    "len(long_phrase) > len(short_phrase)"
   ]
  },
  {
   "cell_type": "markdown",
   "metadata": {},
   "source": [
    "Задание 2. Дано значение объема файла в байтах (в мегабайте 2^20 байт). Напишите перевод этого значения в мегабайты в формате: \"Объем файла равен 213.68Mb\"."
   ]
  },
  {
   "cell_type": "code",
   "execution_count": 33,
   "metadata": {},
   "outputs": [
    {
     "name": "stdout",
     "output_type": "stream",
     "text": [
      "Введите размер файла в байтах: 1000000\n",
      "\n",
      "Объём файла равен 0.9537Mb\n"
     ]
    }
   ],
   "source": [
    "bites_amount = int(input('Введите размер файла в байтах: '))\n",
    "print('')\n",
    "print('Объём файла равен ','%.4f' % (bites_amount / 2 ** 20),'Mb', sep = '')\n",
    "#если не нужно сокращать кол-во знаков после запятой, то использует \n",
    "#print('Объём файла равен ', bites_amount / 2 ** 20,'Mb', sep = '')"
   ]
  },
  {
   "cell_type": "markdown",
   "metadata": {},
   "source": [
    "Задание 3. Разработать приложение для определения знака зодиака по дате рождения. Пример:"
   ]
  },
  {
   "cell_type": "code",
   "execution_count": 32,
   "metadata": {},
   "outputs": [
    {
     "name": "stdout",
     "output_type": "stream",
     "text": [
      "Введите название месяца: март\n",
      "Введите число в месяце: 25\n",
      "\n",
      "Овен\n"
     ]
    }
   ],
   "source": [
    "month = input('Введите название месяца: ')\n",
    "day = int(input('Введите число в месяце: '))\n",
    "print('')\n",
    "if ((month == 'март' or month == 'Март') and 21 <= day <= 31) or ((month == 'апрель' or month == 'Апрель') and day <= 19):\n",
    "    print('Овен')\n",
    "elif ((month == 'апрель' or month == 'Апрель') and 20 <= day <= 30) or ((month == 'май' or month == 'Май') and day <= 20):\n",
    "    print('Телец')\n",
    "elif ((month == 'май' or month == 'Май') and 21 <= day <= 31) or ((month == 'июнь' or month == 'Июнь') and day <= 21):\n",
    "    print('Близнецы')\n",
    "elif ((month == 'июнь' or month == 'Июнь') and 22 <= day <= 30) or ((month == 'июль' or month == 'Июль') and day <= 22):\n",
    "    print('Рак')\n",
    "elif ((month == 'июль' or month == 'Июль') and 23 <= day <= 31) or ((month == 'август' or month == 'Август') and day <= 22):\n",
    "    print('Лев')\n",
    "elif ((month == 'август' or month == 'Август') and 23 <= day >= 31) or ((month == 'сентябрь' or month == 'Сертябрь') and day <= 22):\n",
    "    print('Дева')\n",
    "elif ((month == 'сентябрь' or month == 'Сентябрь') and 23 <= day <= 30) or ((month == 'октябрь' or month == 'Октябрь') and day <= 23):\n",
    "    print('Весы')\n",
    "elif ((month == 'октябрь' or month == 'Октябрь') and 24 <= day >= 31) or ((month == 'ноябрь' or month == 'Ноябрь') and day <= 22):\n",
    "    print('Скорпион')\n",
    "elif ((month == 'ноябрь' or month == 'Ноябрь') and 23 <= day <= 30) or ((month == 'декабрь' or month == 'Декабрь') and day <= 21):\n",
    "    print('Стрелец')\n",
    "elif ((month == 'декабрь' or month == 'Декабрь') and 22 <= day <= 31) or ((month == 'январь' or month == 'Январь') and day <= 20):\n",
    "    print('Козерог')\n",
    "elif ((month == 'январь' or month == 'Январь') and 21 <= day <= 31) or ((month == 'февраль' or month == 'Февраль') and day <= 18):\n",
    "    print('Водолей')\n",
    "elif ((month == 'февраль' or month == 'Февраль') and 19 <= day <= 29) or ((month == 'март' or month == 'Март') and day <= 20):\n",
    "    print('Рыбы')\n",
    "else: \n",
    "    print('Вы ввели некорректный месяц или дату!')"
   ]
  },
  {
   "cell_type": "markdown",
   "metadata": {},
   "source": [
    "Задание 4. Нужно разработать приложение для финансового планирования. Приложение учитывает сколько уходит на ипотеку, \"на жизнь\" и сколько нужно отложить на пенсию."
   ]
  },
  {
   "cell_type": "code",
   "execution_count": 31,
   "metadata": {},
   "outputs": [
    {
     "name": "stdout",
     "output_type": "stream",
     "text": [
      "Введите зарплату в месяц: 10000\n",
      "Введите сколько процентов от ЗП уходит на ипотеку: 20\n",
      "Введите сколько процентов от ЗП уходит \"на жизнь\": 30\n",
      "Введите сколько раз приходит премия в год: 2\n",
      "\n",
      "На ипотеку было потрачено: 24000.0 рублей\n",
      "Было накоплено: 70000.0 рублей\n"
     ]
    }
   ],
   "source": [
    "salary = int(input('Введите зарплату в месяц: '))\n",
    "mortgage_percent = int(input('Введите сколько процентов от ЗП уходит на ипотеку: '))\n",
    "life_percent = int(input('Введите сколько процентов от ЗП уходит \"на жизнь\": '))\n",
    "premium = int(input('Введите сколько раз приходит премия в год: '))\n",
    "print('')\n",
    "print('На ипотеку было потрачено:', salary * mortgage_percent / 100 * 12, 'рублей')\n",
    "print('Было накоплено:', salary * (1 - (mortgage_percent + life_percent) / 100) * 12 + premium * salary / 2,'рублей')"
   ]
  },
  {
   "cell_type": "code",
   "execution_count": null,
   "metadata": {},
   "outputs": [],
   "source": []
  }
 ],
 "metadata": {
  "kernelspec": {
   "display_name": "Python 3",
   "language": "python",
   "name": "python3"
  },
  "language_info": {
   "codemirror_mode": {
    "name": "ipython",
    "version": 3
   },
   "file_extension": ".py",
   "mimetype": "text/x-python",
   "name": "python",
   "nbconvert_exporter": "python",
   "pygments_lexer": "ipython3",
   "version": "3.7.6"
  }
 },
 "nbformat": 4,
 "nbformat_minor": 4
}
