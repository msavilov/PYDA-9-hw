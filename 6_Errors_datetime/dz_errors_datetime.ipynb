{
 "cells": [
  {
   "cell_type": "markdown",
   "metadata": {},
   "source": [
    "Задача про интервалы"
   ]
  },
  {
   "cell_type": "code",
   "execution_count": 54,
   "metadata": {},
   "outputs": [
    {
     "name": "stdout",
     "output_type": "stream",
     "text": [
      "7\n"
     ]
    }
   ],
   "source": [
    "data = [1, 7, 17, 23, 27, 35, 65]\n",
    "n = 10\n",
    "for i, value in enumerate(data[::-1]):\n",
    "    if value < n:\n",
    "        print(value)\n",
    "        break"
   ]
  },
  {
   "cell_type": "code",
   "execution_count": 66,
   "metadata": {},
   "outputs": [
    {
     "name": "stdout",
     "output_type": "stream",
     "text": [
      "7\n"
     ]
    }
   ],
   "source": [
    "ages = {\n",
    "    1: 'дети',\n",
    "    7: 'школьники',\n",
    "    17: 'студенты',\n",
    "    23: 'аспиранты',\n",
    "    27: 'молодые ученые',\n",
    "    35: 'преподаватели',\n",
    "    65: 'пенсионеры'\n",
    "}\n",
    "n = 15\n",
    "key_ages = [x for x in ages.keys()]\n",
    "if n >= 23: #примерное средне значение, чтобы сократить кол-во итераций при поиске, примерно, в 2 раза\n",
    "    for i, value in enumerate(key_ages[::-1]):\n",
    "        if value < n:\n",
    "            print(value)\n",
    "            break\n",
    "else:\n",
    "    for i, value in enumerate(key_ages):   \n",
    "        if value > n:\n",
    "            print(key_ages[i-1])\n",
    "            break"
   ]
  },
  {
   "cell_type": "code",
   "execution_count": 72,
   "metadata": {},
   "outputs": [
    {
     "name": "stdout",
     "output_type": "stream",
     "text": [
      "7\n"
     ]
    }
   ],
   "source": [
    "data = [1, 7, 17, 23, 27, 35, 65]\n",
    "n = 10\n",
    "mid = len(data) // 2\n",
    "low = 0\n",
    "high = len(data) - 1\n",
    "while data[mid] != n and low <= high:\n",
    "    if n > data[mid]:\n",
    "        low = mid + 1\n",
    "    else:\n",
    "        high = mid - 1\n",
    "    mid = (low + high) // 2\n",
    "print(data[mid])"
   ]
  },
  {
   "cell_type": "code",
   "execution_count": null,
   "metadata": {},
   "outputs": [],
   "source": [
    "Домашняя работа"
   ]
  },
  {
   "cell_type": "markdown",
   "metadata": {},
   "source": [
    "Задание 1\n",
    "Напишите функцию date_range, которая возвращает список дней между датами start_date и end_date. Даты должны вводиться в формате YYYY-MM-DD."
   ]
  },
  {
   "cell_type": "code",
   "execution_count": 29,
   "metadata": {},
   "outputs": [
    {
     "name": "stdout",
     "output_type": "stream",
     "text": [
      "Введите первую дату: 2018-04-02\n",
      "Введите вторую дату: 2018-03-26\n",
      "2018-03-27\n",
      "2018-03-28\n",
      "2018-03-29\n",
      "2018-03-30\n",
      "2018-03-31\n",
      "2018-04-01\n"
     ]
    }
   ],
   "source": [
    "from datetime import datetime, timedelta\n",
    "def date_range(start_date, end_date):\n",
    "    \n",
    "    try:\n",
    "        start_date = datetime.strptime(start_date, '%Y-%m-%d')\n",
    "        end_date = datetime.strptime(end_date, '%Y-%m-%d')\n",
    "    except:\n",
    "        print(\"Ошибка. Введите дату начала и дату конца в формате YYYY-MM-DD\")\n",
    "    \n",
    "    if start_date > end_date:\n",
    "        start_date, end_date = end_date, start_date\n",
    "    range_day = (end_date - start_date).days\n",
    "    [print((start_date + timedelta(days=x+1)).strftime('%Y-%m-%d')) for x in range(range_day-1)]\n",
    "\n",
    "start_date = input(\"Введите первую дату: \")\n",
    "end_date = input(\"Введите вторую дату: \")  \n",
    "date_range(start_date, end_date)"
   ]
  },
  {
   "cell_type": "markdown",
   "metadata": {},
   "source": [
    "Задание 2\n",
    "Дополните функцию из первого задания проверкой на корректность дат. В случае неверного формата или если start_date > end_date должен возвращаться пустой список."
   ]
  },
  {
   "cell_type": "code",
   "execution_count": 36,
   "metadata": {},
   "outputs": [
    {
     "name": "stdout",
     "output_type": "stream",
     "text": [
      "Введите первую дату: 2018-04-02\n",
      "Введите вторую дату: 2018-03-28\n"
     ]
    }
   ],
   "source": [
    "from datetime import datetime, timedelta\n",
    "def date_range(start_date, end_date):\n",
    "    \n",
    "    try:\n",
    "        start_date = datetime.strptime(start_date, '%Y-%m-%d')\n",
    "        end_date = datetime.strptime(end_date, '%Y-%m-%d')\n",
    "    except:\n",
    "        return\n",
    "    \n",
    "    if start_date > end_date:\n",
    "        return\n",
    "    range_day = (end_date - start_date).days\n",
    "    [print((start_date + timedelta(days=x+1)).strftime('%Y-%m-%d')) for x in range(range_day-1)]\n",
    "\n",
    "start_date = input(\"Введите первую дату: \")\n",
    "end_date = input(\"Введите вторую дату: \")  \n",
    "date_range(start_date, end_date)"
   ]
  },
  {
   "cell_type": "markdown",
   "metadata": {},
   "source": [
    "Задание 3\n",
    "Дан поток дат в формате YYYY-MM-DD, в которых встречаются некорректные значения:\n",
    "stream = [‘2018-04-02’, ‘2018-02-29’, ‘2018-19-02’]\n",
    "Напишите функцию, которая проверяет эти даты на корректность. Т. е. для каждой даты возвращает True (дата корректна) или False (некорректная дата)."
   ]
  },
  {
   "cell_type": "code",
   "execution_count": 38,
   "metadata": {},
   "outputs": [
    {
     "name": "stdout",
     "output_type": "stream",
     "text": [
      "2018-04-02 - True\n",
      "2018-02-29 - False\n",
      "2018-19-02 - False\n"
     ]
    }
   ],
   "source": [
    "from datetime import datetime, timedelta\n",
    "def check_date(stream):\n",
    "    for date in stream:\n",
    "        try:\n",
    "            datetime.strptime(date, '%Y-%m-%d')\n",
    "            print(f'{date} - True')\n",
    "        except:\n",
    "            print(f'{date} - False')\n",
    "\n",
    "stream = ['2018-04-02', '2018-02-29', '2018-19-02']\n",
    "check_date(stream)"
   ]
  },
  {
   "cell_type": "markdown",
   "metadata": {},
   "source": [
    "#Задание 4 (бонусное)\n",
    "Что значит ошибка list index out of range?\n",
    "Почему при первом запуске функция работает корректно, а при втором - нет?"
   ]
  },
  {
   "cell_type": "markdown",
   "metadata": {},
   "source": [
    "1. list index out of range - данный тип ошибки указывает на обращение к индексу вне границ списка\n",
    "2. При повторном вызове функции default_list[DEFAULT_USER_COUNT-2] будет ссылаться на несуществующий элемент default_list[1], так как на этом этапе в списке находится только один элемент default_list[0]."
   ]
  }
 ],
 "metadata": {
  "kernelspec": {
   "display_name": "Python 3",
   "language": "python",
   "name": "python3"
  },
  "language_info": {
   "codemirror_mode": {
    "name": "ipython",
    "version": 3
   },
   "file_extension": ".py",
   "mimetype": "text/x-python",
   "name": "python",
   "nbconvert_exporter": "python",
   "pygments_lexer": "ipython3",
   "version": "3.7.6"
  }
 },
 "nbformat": 4,
 "nbformat_minor": 4
}
