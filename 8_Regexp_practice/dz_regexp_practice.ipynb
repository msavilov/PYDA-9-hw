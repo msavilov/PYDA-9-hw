{
 "cells": [
  {
   "cell_type": "markdown",
   "metadata": {},
   "source": [
    "Задание 1.\n",
    "Напишите функцию, которая принимает на вход строку и проверяет является ли она валидным транспортным номером. Если да, то функция должна возвращать отдельно номер и регион."
   ]
  },
  {
   "cell_type": "code",
   "execution_count": 1,
   "metadata": {},
   "outputs": [],
   "source": [
    "import re\n",
    "def check_num(number):\n",
    "    pattern_number = r'[a-zA-ZавекмнорстухАВЕКМНОРСТУХ]{1}\\s?\\d{3}(?<!000)\\s?[a-zавекмнорстухA-ZАВЕКМНОРСТУХ]{2}\\s?\\d{2,3}(?<!00)'\n",
    "    if re.findall(pattern_number, number):\n",
    "        print(f'Номер {number} валидный')\n",
    "    else:\n",
    "        print(f'Номер {number} невалидный')"
   ]
  },
  {
   "cell_type": "code",
   "execution_count": 2,
   "metadata": {},
   "outputs": [
    {
     "name": "stdout",
     "output_type": "stream",
     "text": [
      "Номер а555сх50 валидный\n"
     ]
    }
   ],
   "source": [
    "check_num(\"а555сх50\")"
   ]
  },
  {
   "cell_type": "code",
   "execution_count": 3,
   "metadata": {},
   "outputs": [
    {
     "name": "stdout",
     "output_type": "stream",
     "text": [
      "Номер а555фх 50 невалидный\n"
     ]
    }
   ],
   "source": [
    "check_num(\"а555фх 50\")"
   ]
  },
  {
   "cell_type": "markdown",
   "metadata": {},
   "source": [
    "Задание 2.\n",
    "Постарайтесь написать (в крайнем случае найти) самый полный шаблон для проверки e-mail адресов через регулярное выражение, которая проверяет e-mail адрес на валидность. Можно руководствоваться следующими минимальными требованиями:\n",
    "• адрес должен содержать специальный символ “@”, который отделяет имя пользователя почтовой системы от доменного имени;\n",
    "• адрес не должен содержать следующие символы: “пробел”, “,”, “:”, “;”, “!”, “#”, “%”, “*”, “(”, “)”, “=”, “+”, “{”, “}”, \" \" \", \" ’ \", \" / \", \" \\ \" и “|”;\n",
    "• адрес должен состоять только из латинских символов;\n",
    "• после символа “@” должна быть как минимум одна “.”;\n",
    "• после последней точки должно быть не менее 2-х и не более 4-х символов, причем наличие цифр не допускается;\n",
    "• между последней точкой и символом “@” должно быть не менее 2-х символов\n",
    "• слева от “@” должно быть не менее четырех символов"
   ]
  },
  {
   "cell_type": "code",
   "execution_count": 4,
   "metadata": {},
   "outputs": [],
   "source": [
    "def check_email(email, pattern_email):\n",
    "    check_list = '^ ,:;!&?%~`#%*()=+{}\"\\'/\\|'\n",
    "    check_flag = True\n",
    "    for word in check_list:\n",
    "        if word in email and len(email) <= 64:\n",
    "            print(\"email невалидный! введите другой email\")\n",
    "            check_flag = False\n",
    "            break\n",
    "    if check_flag == True:\n",
    "        if re.findall(pattern_email, email):\n",
    "            print(f'Email {re.findall(pattern_email, email)[0]} валидный')\n",
    "        else:\n",
    "            print(\"email невалидный! введите другой email\")"
   ]
  },
  {
   "cell_type": "code",
   "execution_count": 5,
   "metadata": {},
   "outputs": [
    {
     "name": "stdout",
     "output_type": "stream",
     "text": [
      "Email 5555fffgg@mail.ru валидный\n"
     ]
    }
   ],
   "source": [
    "pattern_email = r'[a-z0-9]{4,}@[a-z0-9]{2,}.[a-z]{2,4}'   #сам шаблон\n",
    "email = \"5555fffgg@mail.ru\"\n",
    "check_email(email, pattern_email)"
   ]
  },
  {
   "cell_type": "code",
   "execution_count": 6,
   "metadata": {},
   "outputs": [
    {
     "name": "stdout",
     "output_type": "stream",
     "text": [
      "email невалидный! введите другой email\n"
     ]
    }
   ],
   "source": [
    "email = \"5555^ffgg@mail.ru\"\n",
    "check_email(email, pattern_email)"
   ]
  },
  {
   "cell_type": "markdown",
   "metadata": {},
   "source": [
    "Шаблон из инета\n",
    "(?:[a-z0-9!#$%&'*+/=?^_`{|}~-]+(?:\\.[a-z0-9!#$%&'*+/=?^_`{|}~-]+)*|\"(?:[\\x01-\\x08\\x0b\\x0c\\x0e-\\x1f\\x21\\x23-\\x5b\\x5d-\\x7f]|\\\\[\\x01-\\x09\\x0b\\x0c\\x0e-\\x7f])*\")@(?:(?:[a-z0-9](?:[a-z0-9-]*[a-z0-9])?\\.)+[a-z0-9](?:[a-z0-9-]*[a-z0-9])?|\\[(?:(?:25[0-5]|\n",
    "2[0-4][0-9]|[01]?[0-9][0-9]?)\\.){3}(?:25[0-5]|2[0-4][0-9]|[01]?[0-9][0-9]?|[a-z0-9-]*[a-z0-9]:(?:[\\x01-\\x08\\x0b\\x0c\\x0e-\\x1f\\x21-\\x5a\\x53-\\x7f]|\\\\[\\x01-\\x09\\x0b\\x0c\\x0e-\\x7f])+)\\])"
   ]
  },
  {
   "cell_type": "markdown",
   "metadata": {},
   "source": [
    "Задание 3.\n",
    "Напишите функцию, которая будет удалять все последовательные повторы слов из заданной строки при помощи регулярных выражений."
   ]
  },
  {
   "cell_type": "code",
   "execution_count": 7,
   "metadata": {},
   "outputs": [],
   "source": [
    "def check_repeat(line):\n",
    "    print(re.sub(r'(\\w+)(\\s\\1)+', r'\\1', re.sub(r'\\W+', ' ', line).strip(), flags=re.I))"
   ]
  },
  {
   "cell_type": "code",
   "execution_count": 8,
   "metadata": {},
   "outputs": [
    {
     "name": "stdout",
     "output_type": "stream",
     "text": [
      "Привет Тебе\n"
     ]
    }
   ],
   "source": [
    "line = \"Привет, Привет привет Тебе тебе\"\n",
    "check_repeat(line)"
   ]
  },
  {
   "cell_type": "markdown",
   "metadata": {},
   "source": [
    "Задание 4.\n",
    "Напишите функцию, которая будет проверять номер сотового телефона на валидность, если он валиден, то переводить его в формат:\n",
    "+7(xxx)-xxx-xx-xx"
   ]
  },
  {
   "cell_type": "code",
   "execution_count": 9,
   "metadata": {},
   "outputs": [],
   "source": [
    "import re\n",
    "def check_tel(telefon): #^((8|\\+7)[\\- ]?)?(\\(?\\d{3}\\)?[\\- ]?)?[\\d\\- ]{7,10}$\n",
    "    pattern_tel = r'^(8|\\+7)?[\\-+ ]?\\(?(\\d{3})\\)?[\\-+ ]?\\(?(\\d{3})\\)?[\\-+ ]?\\(?(\\d{2})\\)?[\\-+ ]?\\(?(\\d{2})\\)?[\\-+ ]?$'\n",
    "    if re.findall(pattern_tel, telefon):\n",
    "        number = re.sub(pattern_tel, r'+7(\\2)-\\3-\\4-\\5', telefon)\n",
    "        #number = re.findall(pattern_tel, telefon)\n",
    "        print(number)\n",
    "        #pattern_tel = r'(\\d{3})(\\d{3})(\\d{2})(\\d{2})'\n",
    "        #print(re.sub(find_tel, r'+7(\\1)-\\2-\\3-\\4', find_tel))\n",
    "    else:\n",
    "        print(\"Введённый номер невалидный\")"
   ]
  },
  {
   "cell_type": "code",
   "execution_count": 10,
   "metadata": {},
   "outputs": [
    {
     "name": "stdout",
     "output_type": "stream",
     "text": [
      "+7(955)-555-55-55\n"
     ]
    }
   ],
   "source": [
    "telefon = \"9555555555\"\n",
    "check_tel(telefon)"
   ]
  },
  {
   "cell_type": "code",
   "execution_count": 11,
   "metadata": {},
   "outputs": [
    {
     "name": "stdout",
     "output_type": "stream",
     "text": [
      "Введённый номер невалидный\n"
     ]
    }
   ],
   "source": [
    "telefon = \"5555555\"\n",
    "check_tel(telefon)"
   ]
  }
 ],
 "metadata": {
  "kernelspec": {
   "display_name": "Python 3",
   "language": "python",
   "name": "python3"
  },
  "language_info": {
   "codemirror_mode": {
    "name": "ipython",
    "version": 3
   },
   "file_extension": ".py",
   "mimetype": "text/x-python",
   "name": "python",
   "nbconvert_exporter": "python",
   "pygments_lexer": "ipython3",
   "version": "3.7.6"
  }
 },
 "nbformat": 4,
 "nbformat_minor": 4
}
