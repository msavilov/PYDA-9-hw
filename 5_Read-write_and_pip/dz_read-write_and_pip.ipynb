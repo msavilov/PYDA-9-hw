{
 "cells": [
  {
   "cell_type": "markdown",
   "metadata": {},
   "source": [
    "### Упражнение\n",
    "1. Посчитайте распределение количества покупок purchase_log.txt по категориям в столбце category\n",
    "2. Составьте словарь, в котором для каждого user_id значением будет название категории"
   ]
  },
  {
   "cell_type": "code",
   "execution_count": 31,
   "metadata": {},
   "outputs": [
    {
     "name": "stdout",
     "output_type": "stream",
     "text": [
      "{'Продукты': 14010, 'Электроника': 33466, 'Бытовая техника': 23670, 'Досуг': 11783, 'Товары для животных': 7028, 'Строительство и ремонт': 9009, 'не определена': 1033}\n"
     ]
    }
   ],
   "source": [
    "import json\n",
    "list_category = {}\n",
    "with open('purchase_log.txt', encoding = 'utf-8') as f:\n",
    "    for line in f:\n",
    "        f_dict = json.loads(line)\n",
    "        if f_dict['category'] == 'category':\n",
    "            continue\n",
    "        elif f_dict['category'] not in list_category:\n",
    "            list_category[f_dict['category']] = 1\n",
    "        else:\n",
    "            f_dict['category'] in list_category\n",
    "            list_category[f_dict['category']] += 1\n",
    "            \n",
    "print(list_category)"
   ]
  },
  {
   "cell_type": "code",
   "execution_count": null,
   "metadata": {},
   "outputs": [],
   "source": []
  },
  {
   "cell_type": "code",
   "execution_count": null,
   "metadata": {},
   "outputs": [],
   "source": []
  },
  {
   "cell_type": "markdown",
   "metadata": {},
   "source": [
    "# Домашнее задание\n",
    "1. Переведите содержимое файла purchase_log.txt в словарь purchases вида:\n",
    "```python\n",
    "{'1840e0b9d4': 'Продукты', ...}\n",
    "```\n",
    "\n",
    "2. Для каждого user_id в файле visit_log.csv определите третий столбец с категорией покупки (если покупка была, сам файл visit_log.csv изменять не надо). Запишите в файл funnel.csv визиты из файла visit_log.csv, в которых были покупки с указанием категории.\n",
    "\n",
    "Учтите условия на данные:\n",
    "- содержимое purchase_log.txt помещается в оперативную память компьютера\n",
    "- содержимое visit_log.csv - нет; используйте только построчную обработку этого файла"
   ]
  },
  {
   "cell_type": "code",
   "execution_count": 56,
   "metadata": {},
   "outputs": [],
   "source": [
    "import json\n",
    "purchases = {}\n",
    "with open('purchase_log.txt', 'r', encoding = 'utf-8') as file:\n",
    "    text = file.readlines()\n",
    "    for line in text[1:]:\n",
    "        dict_line = json.loads(line)\n",
    "        purchases[dict_line['user_id']] = dict_line['category']"
   ]
  },
  {
   "cell_type": "code",
   "execution_count": 57,
   "metadata": {},
   "outputs": [],
   "source": [
    "with open('visit_log.csv', 'r') as file:\n",
    "    with open('funnel.csv', 'w') as wr_file:\n",
    "        for line in file:\n",
    "            user_id = line.split(',')[0]\n",
    "            if user_id in purchases:\n",
    "                wr_line = line.strip() +',' + str(purchases[user_id]) + '\\n'\n",
    "                wr_file.write(wr_line)"
   ]
  },
  {
   "cell_type": "code",
   "execution_count": null,
   "metadata": {},
   "outputs": [],
   "source": []
  }
 ],
 "metadata": {
  "kernelspec": {
   "display_name": "Python 3",
   "language": "python",
   "name": "python3"
  },
  "language_info": {
   "codemirror_mode": {
    "name": "ipython",
    "version": 3
   },
   "file_extension": ".py",
   "mimetype": "text/x-python",
   "name": "python",
   "nbconvert_exporter": "python",
   "pygments_lexer": "ipython3",
   "version": "3.7.6"
  }
 },
 "nbformat": 4,
 "nbformat_minor": 2
}
